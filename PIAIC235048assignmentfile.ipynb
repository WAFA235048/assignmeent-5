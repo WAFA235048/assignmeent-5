{
 "cells": [
  {
   "cell_type": "code",
   "execution_count": null,
   "metadata": {},
   "outputs": [],
   "source": [
    " #Question 1: Ticket Pricing System\n",
    "\n",
    "User_Age:str=int(input('Enter your age: '))\n",
    "if User_Age<5:\n",
    "   print('Ticket Price: Free')\n",
    "elif User_Age>=5 and User_Age<=17:\n",
    "   print('Ticket Price: 10$')\n",
    "elif User_Age>=18 and User_Age<=60:\n",
    "   print('Ticket Price: 20$')\n",
    "else:\n",
    "   print('Ticket Price: 15$')\n",
    "\n",
    "\n",
    "#Question 2: Meal Recommendation\n",
    "\n",
    "timeOfUser:str=int(input('What time is it?(in 24hr format): '))\n",
    "if timeOfUser>=5 and timeOfUser<=11:\n",
    "   print(\"It's time for Breakfast.\")\n",
    "if timeOfUser>=12 and timeOfUser<=16:#16 is equal to 4PM in 24hr format\n",
    "   print(\"It's time for Lunch.\")\n",
    "if timeOfUser>=17 and timeOfUser<=21:#17= 5PM and 21=9PM\n",
    "   print(\"It's time for Dinner.\")\n",
    "if timeOfUser<=4:# 4AM,it is same in 24 hr format)\n",
    "   print(\"It's time for Late-night Snack.\")\n",
    "if timeOfUser>=22 and timeOfUser<=24:#22=10PM and 24=12AM(wrote this condition bcz the day hrs end at 24'th hour)\n",
    "   print(\"It's time for Late-night Snack.\")\n",
    "\n",
    "\n",
    " #Question 3: Grocery Bill Calculator\n",
    "\n",
    "grocery_Items_Price:str=(input(\"Enter Prices of Any 5 grocery items: \"))\n",
    "grocery_Items_Price_list:list=grocery_Items_Price.split(',')\n",
    "Total_Bill:int=0\n",
    "for prices in grocery_Items_Price_list:\n",
    "   Integer_prices:int=int(prices)\n",
    "   Total_Bill+=Integer_prices\n",
    "print(f'Total Bill: ${Total_Bill}')\n",
    "Discount_percentage:int=10\n",
    "print(f'Discount Percentage: {Discount_percentage}%')\n",
    "Discounted_Total:int=Total_Bill*(1-Discount_percentage/100)\n",
    "if (Total_Bill>100):\n",
    "  print(f'Discounted Total: ${Discounted_Total}')\n",
    "\n",
    " #Question 4: Username Validator\n",
    "\n",
    "Username:str=input('Enter your Username: ')\n",
    "if Username.len()>=5 and Username.len()<=15:\n",
    "   print('Valid Username')\n",
    "else:\n",
    "   print('Invalid Username')"
   ]
  }
 ],
 "metadata": {
  "kernelspec": {
   "display_name": "Python 3",
   "language": "python",
   "name": "python3"
  },
  "language_info": {
   "codemirror_mode": {
    "name": "ipython",
    "version": 3
   },
   "file_extension": ".py",
   "mimetype": "text/x-python",
   "name": "python",
   "nbconvert_exporter": "python",
   "pygments_lexer": "ipython3",
   "version": "3.12.6"
  }
 },
 "nbformat": 4,
 "nbformat_minor": 2
}
